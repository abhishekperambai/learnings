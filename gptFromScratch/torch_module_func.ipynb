{
 "cells": [
  {
   "cell_type": "code",
   "execution_count": 1,
   "id": "6294ff08",
   "metadata": {},
   "outputs": [],
   "source": [
    "import torch"
   ]
  },
  {
   "cell_type": "code",
   "execution_count": 17,
   "id": "d5a51d97",
   "metadata": {},
   "outputs": [
    {
     "data": {
      "text/plain": [
       "torch.Size([4, 8, 2])"
      ]
     },
     "execution_count": 17,
     "metadata": {},
     "output_type": "execute_result"
    }
   ],
   "source": [
    "torch.manual_seed(1337)\n",
    "B,T,C = 4,8,2\n",
    "x = torch.randn(B,T,C)\n",
    "x.shape"
   ]
  },
  {
   "cell_type": "code",
   "execution_count": 18,
   "id": "65123f3d",
   "metadata": {},
   "outputs": [
    {
     "data": {
      "text/plain": [
       "tensor([[[ 0.1808, -0.0700],\n",
       "         [-0.0894, -0.4926],\n",
       "         [ 0.1490, -0.3199],\n",
       "         [ 0.3504, -0.2238],\n",
       "         [ 0.3525,  0.0545],\n",
       "         [ 0.0688, -0.0396],\n",
       "         [ 0.0927, -0.0682],\n",
       "         [-0.0341,  0.1332]],\n",
       "\n",
       "        [[ 1.3488, -0.1396],\n",
       "         [ 0.8173,  0.4127],\n",
       "         [-0.1342,  0.4395],\n",
       "         [ 0.2711,  0.4774],\n",
       "         [ 0.2421,  0.0694],\n",
       "         [ 0.0084,  0.0020],\n",
       "         [ 0.0712, -0.1128],\n",
       "         [ 0.2527,  0.2149]],\n",
       "\n",
       "        [[-0.6631, -0.2513],\n",
       "         [ 0.1735, -0.0649],\n",
       "         [ 0.1685,  0.3348],\n",
       "         [-0.1621,  0.1765],\n",
       "         [-0.2312, -0.0436],\n",
       "         [-0.1015, -0.2855],\n",
       "         [-0.2593, -0.1630],\n",
       "         [-0.3015, -0.2293]],\n",
       "\n",
       "        [[ 1.6455, -0.8030],\n",
       "         [ 1.4985, -0.5395],\n",
       "         [ 0.4954,  0.3420],\n",
       "         [ 1.0623, -0.1802],\n",
       "         [ 1.1401, -0.4462],\n",
       "         [ 1.0870, -0.4071],\n",
       "         [ 1.0430, -0.1299],\n",
       "         [ 1.1138, -0.1641]]])"
      ]
     },
     "execution_count": 18,
     "metadata": {},
     "output_type": "execute_result"
    }
   ],
   "source": [
    "xbow = torch.zeros((B,T,C))\n",
    "for b in range(B):\n",
    "    for t in range(T):\n",
    "        xprev = x[b, :t+1]\n",
    "        xbow[b,t] = torch.mean(xprev, 0)\n",
    "xbow"
   ]
  },
  {
   "cell_type": "code",
   "execution_count": 19,
   "id": "54790ee2",
   "metadata": {},
   "outputs": [
    {
     "name": "stdout",
     "output_type": "stream",
     "text": [
      "tensor([[8.0000, 6.0000],\n",
      "        [6.5000, 4.0000],\n",
      "        [5.6667, 4.0000]])\n"
     ]
    }
   ],
   "source": [
    "a = torch.tril(torch.ones(3,3))\n",
    "a = a/torch.sum(a, 1, keepdim=True)\n",
    "b = torch.randint(0,10, (3,2)).float()\n",
    "c = a @ b\n",
    "print(c)"
   ]
  },
  {
   "cell_type": "code",
   "execution_count": 20,
   "id": "87901fb0",
   "metadata": {},
   "outputs": [
    {
     "name": "stdout",
     "output_type": "stream",
     "text": [
      "tensor([[1.0000, 0.0000, 0.0000],\n",
      "        [0.5000, 0.5000, 0.0000],\n",
      "        [0.3333, 0.3333, 0.3333]])\n",
      "tensor([[8., 6.],\n",
      "        [5., 2.],\n",
      "        [4., 4.]])\n"
     ]
    }
   ],
   "source": [
    "print(a)\n",
    "print(b)"
   ]
  },
  {
   "cell_type": "code",
   "execution_count": 21,
   "id": "f5192317",
   "metadata": {},
   "outputs": [],
   "source": [
    "weights = torch.tril(torch.ones(T, T))\n",
    "weights = weights/weights.sum(1, keepdim=True)\n",
    "xbow2 = weights @ x"
   ]
  },
  {
   "cell_type": "code",
   "execution_count": 22,
   "id": "fbfc281b",
   "metadata": {},
   "outputs": [
    {
     "data": {
      "text/plain": [
       "tensor([[[ 0.1808, -0.0700],\n",
       "         [-0.0894, -0.4926],\n",
       "         [ 0.1490, -0.3199],\n",
       "         [ 0.3504, -0.2238],\n",
       "         [ 0.3525,  0.0545],\n",
       "         [ 0.0688, -0.0396],\n",
       "         [ 0.0927, -0.0682],\n",
       "         [-0.0341,  0.1332]],\n",
       "\n",
       "        [[ 1.3488, -0.1396],\n",
       "         [ 0.8173,  0.4127],\n",
       "         [-0.1342,  0.4395],\n",
       "         [ 0.2711,  0.4774],\n",
       "         [ 0.2421,  0.0694],\n",
       "         [ 0.0084,  0.0020],\n",
       "         [ 0.0712, -0.1128],\n",
       "         [ 0.2527,  0.2149]],\n",
       "\n",
       "        [[-0.6631, -0.2513],\n",
       "         [ 0.1735, -0.0649],\n",
       "         [ 0.1685,  0.3348],\n",
       "         [-0.1621,  0.1765],\n",
       "         [-0.2312, -0.0436],\n",
       "         [-0.1015, -0.2855],\n",
       "         [-0.2593, -0.1630],\n",
       "         [-0.3015, -0.2293]],\n",
       "\n",
       "        [[ 1.6455, -0.8030],\n",
       "         [ 1.4985, -0.5395],\n",
       "         [ 0.4954,  0.3420],\n",
       "         [ 1.0623, -0.1802],\n",
       "         [ 1.1401, -0.4462],\n",
       "         [ 1.0870, -0.4071],\n",
       "         [ 1.0430, -0.1299],\n",
       "         [ 1.1138, -0.1641]]])"
      ]
     },
     "execution_count": 22,
     "metadata": {},
     "output_type": "execute_result"
    }
   ],
   "source": [
    "xbow2"
   ]
  },
  {
   "cell_type": "code",
   "execution_count": 23,
   "id": "c2a6fead",
   "metadata": {},
   "outputs": [],
   "source": [
    "from torch.nn import functional as F"
   ]
  },
  {
   "cell_type": "code",
   "execution_count": 26,
   "id": "f83cdc7e",
   "metadata": {},
   "outputs": [
    {
     "data": {
      "text/plain": [
       "tensor([[-0.0341,  0.1332],\n",
       "        [-0.0341,  0.1332],\n",
       "        [-0.0341,  0.1332],\n",
       "        [-0.0341,  0.1332],\n",
       "        [-0.0341,  0.1332],\n",
       "        [-0.0341,  0.1332],\n",
       "        [-0.0341,  0.1332],\n",
       "        [-0.0341,  0.1332]])"
      ]
     },
     "execution_count": 26,
     "metadata": {},
     "output_type": "execute_result"
    }
   ],
   "source": [
    "tril = torch.tril(torch.ones(1,1))\n",
    "weights = torch.zeros((T,T))\n",
    "weights = weights.masked_fill(tril==0, float(\"-inf\"))\n",
    "weights = F.softmax(weights, dim=-1)\n",
    "xbow3 = weights @ x\n",
    "xbow3[0]"
   ]
  },
  {
   "cell_type": "code",
   "execution_count": 25,
   "id": "ac55ec5c",
   "metadata": {},
   "outputs": [
    {
     "data": {
      "text/plain": [
       "tensor([[ 0.1808, -0.0700],\n",
       "        [-0.0894, -0.4926],\n",
       "        [ 0.1490, -0.3199],\n",
       "        [ 0.3504, -0.2238],\n",
       "        [ 0.3525,  0.0545],\n",
       "        [ 0.0688, -0.0396],\n",
       "        [ 0.0927, -0.0682],\n",
       "        [-0.0341,  0.1332]])"
      ]
     },
     "execution_count": 25,
     "metadata": {},
     "output_type": "execute_result"
    }
   ],
   "source": [
    "xbow2[0]"
   ]
  },
  {
   "cell_type": "code",
   "execution_count": 29,
   "id": "bf08152e",
   "metadata": {},
   "outputs": [
    {
     "name": "stdout",
     "output_type": "stream",
     "text": [
      "\n",
      " !',-.:;?ABCDEFGHIJKLMNOPQRSTUVWXYZabcdefghijklmnopqrstuvwxyz\n",
      "62\n"
     ]
    }
   ],
   "source": [
    "with open(\"tiny_shakespear.txt\", \"r\") as stream:\n",
    "    text = stream.read()\n",
    "    \n",
    "chars = sorted(list(set(text)))\n",
    "vocab_size = len(chars)\n",
    "print(\"\".join(chars))\n",
    "print(vocab_size)"
   ]
  },
  {
   "cell_type": "code",
   "execution_count": 31,
   "id": "eebd80ca",
   "metadata": {},
   "outputs": [
    {
     "name": "stdout",
     "output_type": "stream",
     "text": [
      "hello\n"
     ]
    }
   ],
   "source": [
    "stoi = {ch:i for i,ch in enumerate(chars)}\n",
    "itos = {i:ch for i,ch in enumerate(chars)}\n",
    "\n",
    "encode = lambda x: [stoi[c] for c in x]\n",
    "decode = lambda x: \"\".join([itos[c] for c in x])\n",
    "\n",
    "print(decode(encode(\"hello\")))"
   ]
  },
  {
   "cell_type": "code",
   "execution_count": 32,
   "id": "a7b14361",
   "metadata": {},
   "outputs": [
    {
     "data": {
      "text/plain": [
       "tensor([29, 43, 36,  ..., 29, 30, 28])"
      ]
     },
     "execution_count": 32,
     "metadata": {},
     "output_type": "execute_result"
    }
   ],
   "source": [
    "data = torch.tensor(encode(text))\n",
    "data"
   ]
  },
  {
   "cell_type": "code",
   "execution_count": 35,
   "id": "b7bfa3da",
   "metadata": {},
   "outputs": [
    {
     "name": "stdout",
     "output_type": "stream",
     "text": [
      "tensor([[ 7,  0, 18, 41,  1, 55, 43, 50],\n",
      "        [56, 49, 39,  1, 37, 44, 53, 55],\n",
      "        [36, 46, 40,  1, 60, 50, 56,  1],\n",
      "        [48, 40,  6,  0,  0, 22, 40, 54]])\n",
      "tensor([[ 0, 18, 41,  1, 55, 43, 50, 56],\n",
      "        [49, 39,  1, 37, 44, 53, 55, 43],\n",
      "        [46, 40,  1, 60, 50, 56,  1, 43],\n",
      "        [40,  6,  0,  0, 22, 40, 54, 54]])\n"
     ]
    }
   ],
   "source": [
    "block_size = 8\n",
    "batch_size = 4\n",
    "def get_batch():\n",
    "    ix = torch.randint(len(data)-block_size, (batch_size,))\n",
    "    x = torch.stack([data[i:i+block_size] for i in ix])\n",
    "    y = torch.stack([data[i+1:i+block_size+1] for i in ix])\n",
    "    return x, y\n",
    "\n",
    "x, y  = get_batch()\n",
    "print(x)\n",
    "print(y)"
   ]
  },
  {
   "cell_type": "code",
   "execution_count": 42,
   "id": "8cb7eeed",
   "metadata": {},
   "outputs": [
    {
     "name": "stdout",
     "output_type": "stream",
     "text": [
      "tensor([ 7,  0, 18, 41,  1, 55, 43, 50])\n",
      "tensor([ 0.6144,  0.7587,  1.4836,  1.7352,  0.8804,  1.4760,  0.6311,  0.4358,\n",
      "        -1.0027,  0.4420, -0.1036, -1.1312, -0.3247, -0.0322, -0.2953,  1.1953,\n",
      "        -2.2604,  0.7947,  0.0066,  1.4796, -1.3218, -0.0290, -1.2789, -1.4618,\n",
      "        -1.0839, -1.2710,  0.9819, -0.3834,  0.7289, -0.4512,  2.8492, -0.6424],\n",
      "       grad_fn=<SelectBackward0>)\n",
      "tensor([-6.6243e-03, -4.7309e-01, -1.3021e+00, -6.5491e-01,  1.2268e+00,\n",
      "         9.2907e-01, -8.5324e-01, -1.2480e+00,  4.2771e-01,  5.7282e-01,\n",
      "        -1.3896e+00, -5.1169e-01, -2.4553e-01, -1.9685e-01,  1.5873e+00,\n",
      "        -1.8413e+00,  1.0065e-01,  2.7351e-01, -5.8766e-01, -1.4081e+00,\n",
      "         1.1223e+00, -1.5770e-03,  1.0404e-01, -8.2817e-01, -1.0269e-01,\n",
      "         6.0356e-01, -8.0791e-01, -2.7952e-01,  9.4910e-01, -1.7974e+00,\n",
      "        -1.7857e+00, -2.1206e+00], grad_fn=<SelectBackward0>)\n"
     ]
    }
   ],
   "source": [
    "import torch.nn as nn\n",
    "B, T = x.shape\n",
    "tok_emb_table = nn.Embedding(vocab_size, 32)\n",
    "pos_emb_table = nn.Embedding(block_size, 32)\n",
    "\n",
    "tok_emb = tok_emb_table(x)\n",
    "pos_emb = pos_emb_table(torch.arange(T))\n",
    "X = tok_emb + pos_emb\n",
    "\n",
    "print(x[0])\n",
    "print(tok_emb[0][0])\n",
    "print(pos_emb[0])"
   ]
  },
  {
   "cell_type": "code",
   "execution_count": 49,
   "id": "c8722884",
   "metadata": {},
   "outputs": [
    {
     "data": {
      "text/plain": [
       "32"
      ]
     },
     "execution_count": 49,
     "metadata": {},
     "output_type": "execute_result"
    }
   ],
   "source": [
    "len([ 0.6144,  0.7587,  1.4836,  1.7352,  0.8804,  1.4760,  0.6311,  0.4358,\n",
    "        -1.0027,  0.4420, -0.1036, -1.1312, -0.3247, -0.0322, -0.2953,  1.1953,\n",
    "        -2.2604,  0.7947,  0.0066,  1.4796, -1.3218, -0.0290, -1.2789, -1.4618,\n",
    "        -1.0839, -1.2710,  0.9819, -0.3834,  0.7289, -0.4512,  2.8492, -0.6424])"
   ]
  },
  {
   "cell_type": "code",
   "execution_count": 43,
   "id": "15340be8",
   "metadata": {},
   "outputs": [
    {
     "data": {
      "text/plain": [
       "32"
      ]
     },
     "execution_count": 43,
     "metadata": {},
     "output_type": "execute_result"
    }
   ],
   "source": [
    "len([-6.6243e-03, -4.7309e-01, -1.3021e+00, -6.5491e-01,  1.2268e+00,\n",
    "         9.2907e-01, -8.5324e-01, -1.2480e+00,  4.2771e-01,  5.7282e-01,\n",
    "        -1.3896e+00, -5.1169e-01, -2.4553e-01, -1.9685e-01,  1.5873e+00,\n",
    "        -1.8413e+00,  1.0065e-01,  2.7351e-01, -5.8766e-01, -1.4081e+00,\n",
    "         1.1223e+00, -1.5770e-03,  1.0404e-01, -8.2817e-01, -1.0269e-01,\n",
    "         6.0356e-01, -8.0791e-01, -2.7952e-01,  9.4910e-01, -1.7974e+00,\n",
    "        -1.7857e+00, -2.1206e+00])"
   ]
  },
  {
   "cell_type": "code",
   "execution_count": 51,
   "id": "9f59a38d",
   "metadata": {},
   "outputs": [
    {
     "data": {
      "text/plain": [
       "0.28561000000000003"
      ]
     },
     "execution_count": 51,
     "metadata": {},
     "output_type": "execute_result"
    }
   ],
   "source": [
    " 0.7587+-4.7309e-01"
   ]
  },
  {
   "cell_type": "code",
   "execution_count": 45,
   "id": "e73dd4cc",
   "metadata": {},
   "outputs": [
    {
     "name": "stdout",
     "output_type": "stream",
     "text": [
      "tensor([ 0.6078,  0.2856,  0.1814,  1.0803,  2.1072,  2.4051, -0.2222, -0.8122,\n",
      "        -0.5750,  1.0149, -1.4932, -1.6429, -0.5702, -0.2290,  1.2920, -0.6460,\n",
      "        -2.1598,  1.0682, -0.5810,  0.0715, -0.1994, -0.0306, -1.1749, -2.2900,\n",
      "        -1.1866, -0.6675,  0.1740, -0.6629,  1.6780, -2.2486,  1.0634, -2.7630],\n",
      "       grad_fn=<SelectBackward0>)\n"
     ]
    }
   ],
   "source": [
    "print(X[0][0])"
   ]
  },
  {
   "cell_type": "code",
   "execution_count": 46,
   "id": "0266b59d",
   "metadata": {},
   "outputs": [
    {
     "data": {
      "text/plain": [
       "32"
      ]
     },
     "execution_count": 46,
     "metadata": {},
     "output_type": "execute_result"
    }
   ],
   "source": [
    "len([ 0.6078,  0.2856,  0.1814,  1.0803,  2.1072,  2.4051, -0.2222, -0.8122,\n",
    "        -0.5750,  1.0149, -1.4932, -1.6429, -0.5702, -0.2290,  1.2920, -0.6460,\n",
    "        -2.1598,  1.0682, -0.5810,  0.0715, -0.1994, -0.0306, -1.1749, -2.2900,\n",
    "        -1.1866, -0.6675,  0.1740, -0.6629,  1.6780, -2.2486,  1.0634, -2.7630])"
   ]
  },
  {
   "cell_type": "code",
   "execution_count": 48,
   "id": "fa653abb",
   "metadata": {},
   "outputs": [
    {
     "data": {
      "text/plain": [
       "tensor([[[ 0.6144,  0.7587,  1.4836,  ..., -0.4512,  2.8492, -0.6424],\n",
       "         [ 0.3889, -0.3313,  0.6967,  ..., -0.7808, -0.6466,  0.8176],\n",
       "         [-1.3996,  0.7401,  0.3637,  ..., -1.0731, -0.7737, -0.8434],\n",
       "         ...,\n",
       "         [ 1.7527, -0.1127,  0.4896,  ..., -0.1318, -0.2942, -1.7126],\n",
       "         [-0.4028,  0.5934, -0.2005,  ...,  0.5076,  0.8531,  0.3289],\n",
       "         [-0.5697, -0.5993, -0.5512,  ...,  0.0207, -1.1428,  0.0883]],\n",
       "\n",
       "        [[ 0.6894, -0.7158, -0.6840,  ..., -0.3224, -0.0434, -0.4698],\n",
       "         [ 0.2359,  0.0644, -0.2274,  ...,  0.3454, -1.5387, -1.7038],\n",
       "         [ 0.5790,  1.1480, -1.0644,  ..., -0.1905,  1.4490,  1.8474],\n",
       "         ...,\n",
       "         [-1.3031, -0.4404, -1.1598,  ...,  0.0622,  0.7251,  0.3281],\n",
       "         [-0.8758, -1.8439,  2.6802,  ..., -0.9770, -2.3757, -1.4104],\n",
       "         [ 1.7527, -0.1127,  0.4896,  ..., -0.1318, -0.2942, -1.7126]],\n",
       "\n",
       "        [[-1.0945, -2.7225, -1.5922,  ...,  1.1276,  1.3466, -0.4755],\n",
       "         [ 0.7720, -0.8700,  0.2945,  ...,  1.0912,  0.0089, -0.1316],\n",
       "         [ 0.5178, -0.2762, -0.8596,  ..., -0.6049,  0.0126, -1.7374],\n",
       "         ...,\n",
       "         [-0.5697, -0.5993, -0.5512,  ...,  0.0207, -1.1428,  0.0883],\n",
       "         [ 0.6894, -0.7158, -0.6840,  ..., -0.3224, -0.0434, -0.4698],\n",
       "         [-0.1852, -1.5599,  1.2458,  ..., -0.0535, -1.0264,  0.7542]],\n",
       "\n",
       "        [[ 0.8448,  0.5468,  0.2952,  ..., -0.5452, -2.2456,  0.5666],\n",
       "         [ 0.5178, -0.2762, -0.8596,  ..., -0.6049,  0.0126, -1.7374],\n",
       "         [ 0.0051, -0.1814, -0.2084,  ..., -0.1124,  1.6764,  1.5138],\n",
       "         ...,\n",
       "         [-1.0149, -0.1631, -0.3369,  ..., -0.9513,  0.1553,  0.8672],\n",
       "         [ 0.5178, -0.2762, -0.8596,  ..., -0.6049,  0.0126, -1.7374],\n",
       "         [ 1.4189,  0.2220,  0.2200,  ..., -1.9702, -1.1846, -2.1968]]],\n",
       "       grad_fn=<EmbeddingBackward0>)"
      ]
     },
     "execution_count": 48,
     "metadata": {},
     "output_type": "execute_result"
    }
   ],
   "source": [
    "tok_emb"
   ]
  },
  {
   "cell_type": "code",
   "execution_count": 53,
   "id": "d068ee2b",
   "metadata": {},
   "outputs": [
    {
     "data": {
      "text/plain": [
       "2"
      ]
     },
     "execution_count": 53,
     "metadata": {},
     "output_type": "execute_result"
    }
   ],
   "source": [
    "C"
   ]
  },
  {
   "cell_type": "code",
   "execution_count": 62,
   "id": "0dfb4aa9",
   "metadata": {},
   "outputs": [
    {
     "data": {
      "text/plain": [
       "tensor([[-0.7729, -1.0834, -0.5939,  1.6812,  2.3110, -0.4750,  3.2580,  3.5340],\n",
       "        [ 1.3278,  5.2149,  1.7303,  3.6606,  4.2795, -2.9949,  3.8240,  2.6498],\n",
       "        [-0.4212,  4.3974, -2.1648,  6.0795,  1.4370, -2.3196, -1.7588,  0.0981],\n",
       "        [ 2.2616,  2.7659,  1.3712,  0.5402,  3.6694, -6.2997,  2.7413,  1.2735],\n",
       "        [-1.2647, -4.1999,  0.9154, -1.6294, -2.6756,  0.4014, -2.7229, -2.5656],\n",
       "        [-0.1244,  1.8457,  0.2667,  2.5553,  0.2832, -1.7920,  1.6791,  0.2111],\n",
       "        [-1.8820, -5.0723, -3.0372, -1.8572,  0.2825,  0.3319,  0.7912,  3.6247],\n",
       "        [-1.6062, -2.8592,  4.1347, -0.9649, -2.1262,  0.9069,  0.2497, -1.8599]],\n",
       "       grad_fn=<SelectBackward0>)"
      ]
     },
     "execution_count": 62,
     "metadata": {},
     "output_type": "execute_result"
    }
   ],
   "source": [
    "# B,T,C = \n",
    "n_embd = 32\n",
    "head_size = 16\n",
    "key = nn.Linear(32, head_size, bias=False)\n",
    "queries = nn.Linear(32, head_size, bias=False)\n",
    "val = nn.Linear(32, head_size, bias=False)\n",
    "\n",
    "k = key(X)\n",
    "q = queries(X)\n",
    "v = val(X)\n",
    "\n",
    "wei = q @ k.transpose(-2, -1) * head_size**-0.5\n",
    "tril = torch.tril(torch.ones(8,8))\n",
    "wei = wei.masked_fill(tril==0, float(\"-inf\"))\n",
    "wei = F.softmax(wei, dim=-1)\n",
    "out = wei @ v\n",
    "\n",
    "wei[0]\n"
   ]
  },
  {
   "cell_type": "code",
   "execution_count": 63,
   "id": "b966c6aa",
   "metadata": {},
   "outputs": [],
   "source": []
  },
  {
   "cell_type": "code",
   "execution_count": 64,
   "id": "31c343d0",
   "metadata": {},
   "outputs": [
    {
     "data": {
      "text/plain": [
       "tensor([[[ 0.6078,  0.2856,  0.1814,  ..., -2.2486,  1.0634, -2.7630],\n",
       "         [ 0.3609, -0.0511,  1.9099,  ..., -1.6045, -0.2529, -1.7766],\n",
       "         [ 0.3553, -0.0541,  1.9288,  ..., -1.5950, -0.2721, -1.7657],\n",
       "         ...,\n",
       "         [-0.0957,  1.6891, -0.5089,  ..., -1.6220, -1.4316, -1.2145],\n",
       "         [-0.3532,  0.4330, -0.5455,  ..., -0.3181, -0.4278,  0.3477],\n",
       "         [-1.3888,  0.7594,  0.1240,  ..., -0.5219, -2.2289, -2.5293]],\n",
       "\n",
       "        [[ 0.6828, -1.1888, -1.9862,  ..., -2.1198, -1.8291, -2.5904],\n",
       "         [ 0.4073, -0.3124, -0.2596,  ..., -1.1699, -1.4519, -3.5591],\n",
       "         [ 0.2211,  0.3041,  0.8983,  ..., -0.5025, -1.1763, -4.1643],\n",
       "         ...,\n",
       "         [-0.2331,  0.3844,  0.1388,  ..., -0.0613, -0.2756, -1.3672],\n",
       "         [ 0.0088, -0.1168, -0.7681,  ..., -0.6990, -0.8922, -0.8986],\n",
       "         [-0.0214,  0.3691,  0.6458,  ..., -0.4186, -1.3051, -3.3776]],\n",
       "\n",
       "        [[-1.1011, -3.1956, -2.8943,  ..., -0.6698, -0.4391, -2.5961],\n",
       "         [ 0.5389, -0.8793,  1.0606,  ...,  0.1773,  0.2870, -2.6937],\n",
       "         [ 0.5260, -0.8712,  0.9718,  ...,  0.1656,  0.2228, -2.7217],\n",
       "         ...,\n",
       "         [-0.1084, -0.3607,  0.1311,  ..., -0.0252, -0.8838, -1.9502],\n",
       "         [-0.9639, -2.6569, -2.5536,  ..., -0.7341, -0.5341, -2.2602],\n",
       "         [-0.2467, -0.9061, -1.3808,  ..., -0.2825, -1.2155, -2.4183]],\n",
       "\n",
       "        [[ 0.8381,  0.0737, -1.0070,  ..., -2.3426, -4.0314, -1.5541],\n",
       "         [ 0.5887,  0.0197, -0.0214,  ..., -1.6880, -0.9175, -3.5007],\n",
       "         [ 0.8374,  0.0735, -1.0041,  ..., -2.3407, -4.0223, -1.5597],\n",
       "         ...,\n",
       "         [ 0.0339, -0.1294, -0.1884,  ..., -0.0596,  0.0466, -0.9284],\n",
       "         [-0.9385,  0.2007, -1.0477,  ..., -1.2843, -0.7022,  0.6037],\n",
       "         [-0.0932, -0.0356, -0.4524,  ...,  0.0478, -0.0328, -0.6647]]],\n",
       "       grad_fn=<UnsafeViewBackward0>)"
      ]
     },
     "execution_count": 64,
     "metadata": {},
     "output_type": "execute_result"
    }
   ],
   "source": [
    "out"
   ]
  },
  {
   "cell_type": "code",
   "execution_count": 66,
   "id": "78b1ece1",
   "metadata": {},
   "outputs": [
    {
     "data": {
      "text/plain": [
       "tensor([[1.0000e+00, 0.0000e+00, 0.0000e+00, 0.0000e+00, 0.0000e+00, 0.0000e+00,\n",
       "         0.0000e+00, 0.0000e+00],\n",
       "        [2.0091e-02, 9.7991e-01, 0.0000e+00, 0.0000e+00, 0.0000e+00, 0.0000e+00,\n",
       "         0.0000e+00, 0.0000e+00],\n",
       "        [8.0019e-03, 9.9060e-01, 1.3994e-03, 0.0000e+00, 0.0000e+00, 0.0000e+00,\n",
       "         0.0000e+00, 0.0000e+00],\n",
       "        [3.0816e-01, 5.1025e-01, 1.2649e-01, 5.5103e-02, 0.0000e+00, 0.0000e+00,\n",
       "         0.0000e+00, 0.0000e+00],\n",
       "        [9.2265e-02, 4.9013e-03, 8.1626e-01, 6.4068e-02, 2.2506e-02, 0.0000e+00,\n",
       "         0.0000e+00, 0.0000e+00],\n",
       "        [3.8577e-02, 2.7664e-01, 5.7042e-02, 5.6247e-01, 5.7987e-02, 7.2796e-03,\n",
       "         0.0000e+00, 0.0000e+00],\n",
       "        [2.8794e-02, 1.1851e-03, 9.0699e-03, 2.9517e-02, 2.5081e-01, 2.6352e-01,\n",
       "         4.1710e-01, 0.0000e+00],\n",
       "        [2.9880e-03, 8.5358e-04, 9.3039e-01, 5.6746e-03, 1.7765e-03, 3.6885e-02,\n",
       "         1.9116e-02, 2.3187e-03]], grad_fn=<SelectBackward0>)"
      ]
     },
     "execution_count": 66,
     "metadata": {},
     "output_type": "execute_result"
    }
   ],
   "source": [
    "wei[0]"
   ]
  },
  {
   "cell_type": "code",
   "execution_count": null,
   "id": "0d61ad81",
   "metadata": {},
   "outputs": [],
   "source": []
  }
 ],
 "metadata": {
  "kernelspec": {
   "display_name": "venv",
   "language": "python",
   "name": "venv"
  },
  "language_info": {
   "codemirror_mode": {
    "name": "ipython",
    "version": 3
   },
   "file_extension": ".py",
   "mimetype": "text/x-python",
   "name": "python",
   "nbconvert_exporter": "python",
   "pygments_lexer": "ipython3",
   "version": "3.9.7"
  }
 },
 "nbformat": 4,
 "nbformat_minor": 5
}
